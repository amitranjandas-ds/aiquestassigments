{
 "cells": [
  {
   "cell_type": "markdown",
   "id": "5fe21daf",
   "metadata": {},
   "source": [
    "# Assignment 02"
   ]
  },
  {
   "cell_type": "markdown",
   "id": "d0492724",
   "metadata": {},
   "source": [
    "1. Take values of the length & breadth of a rectangle from user input and check if it is square or not."
   ]
  },
  {
   "cell_type": "code",
   "execution_count": null,
   "id": "9dafdd40",
   "metadata": {},
   "outputs": [],
   "source": [
    "length = int(input())\n",
    "breadth = int(input())\n",
    "if(length == breadth):\n",
    "    print('This rectangle is a square')\n",
    "else:\n",
    "    print('This rectangle is not a square')\n"
   ]
  },
  {
   "cell_type": "markdown",
   "id": "b1f39294",
   "metadata": {},
   "source": [
    "2. Take three integer values from the user and print the greatest among them."
   ]
  },
  {
   "cell_type": "code",
   "execution_count": null,
   "id": "a107d1ba",
   "metadata": {},
   "outputs": [],
   "source": [
    "value1 = int(input())\n",
    "value2 = int(input())\n",
    "value3 = int(input())\n",
    "if(value1>value2):\n",
    "    if(value1>value3):\n",
    "        print(value1,' is the largest number')\n",
    "    else:\n",
    "        print(value3,' is the largest number')\n",
    "else:\n",
    "    if(value2>value3):\n",
    "        print(value2,' is the largest number')\n",
    "    else:\n",
    "        print(value3,' is the largest number')"
   ]
  },
  {
   "cell_type": "markdown",
   "id": "ce1cf887",
   "metadata": {},
   "source": [
    "3. A student will not be allowed to sit in an exam if his/her attendance is less than 75%."
   ]
  },
  {
   "cell_type": "code",
   "execution_count": null,
   "id": "d11abfe0",
   "metadata": {},
   "outputs": [],
   "source": [
    "print('Please Enter Attendance Percent to Check')\n",
    "if(float(input())<75):\n",
    "    print('You are not allowed to seat this exam.')\n",
    "else:\n",
    "    print('Proceed, You can attend this exam.')"
   ]
  },
  {
   "cell_type": "markdown",
   "id": "2691b388",
   "metadata": {},
   "source": [
    "4. A school has the following rules for the grading system:\n",
    "\n",
    "Below 25 – F, 25 to 44 – E, 45 to 49 – D, 50 to 59 – C, 60 to 79 – B, 80 to 89 - A, Above 90 - A+\n",
    "\n",
    "Now, Ask the user to enter marks and print the corresponding grade."
   ]
  },
  {
   "cell_type": "code",
   "execution_count": null,
   "id": "d35d29f7",
   "metadata": {},
   "outputs": [],
   "source": [
    "print('Please Enter your Mark to check Grade')\n",
    "mark = float(input())\n",
    "if(mark < 25):\n",
    "    print('Your Grade is: ', 'F')\n",
    "elif(mark>=25 and mark < 45):\n",
    "    print('Your Grade is: ', 'E')\n",
    "elif(mark>=45 and mark < 50):\n",
    "    print('Your Grade is: ', 'D')\n",
    "elif(mark>=50 and mark < 60):\n",
    "    print('Your Grade is: ', 'C')\n",
    "elif(mark>=60 and mark < 80):\n",
    "    print('Your Grade is: ', 'B')\n",
    "elif(mark>=80 and mark < 90):\n",
    "    print('Your Grade is: ', 'A')\n",
    "elif(mark>90):\n",
    "    print('Your Grade is: ', 'A+')\n",
    "else:\n",
    "    print('Your Mark is out of scope')"
   ]
  },
  {
   "cell_type": "markdown",
   "id": "4f0b0fd6",
   "metadata": {},
   "source": [
    "Loop Problem:\n",
    "\n",
    "5. Print the following pattern using for and while loop."
   ]
  },
  {
   "cell_type": "code",
   "execution_count": null,
   "id": "5e9b8ec8",
   "metadata": {},
   "outputs": [],
   "source": [
    "#For Loop\n",
    "for i in range(1, 8):\n",
    "    print(i, end = ' ')\n",
    "    if i == 7:\n",
    "        print('')\n",
    "        for j in range(1, 7):\n",
    "            print(j, end = ' ')\n",
    "            if j == 6:\n",
    "                print('')\n",
    "                for k in range(1, 6):\n",
    "                    print(k, end = ' ')\n",
    "                    if k == 5:\n",
    "                        print('')\n",
    "                        for l in range(1, 5):\n",
    "                            print(l, end = ' ')\n",
    "                \n",
    "    "
   ]
  },
  {
   "cell_type": "code",
   "execution_count": 3,
   "id": "4d7c3280",
   "metadata": {},
   "outputs": [
    {
     "name": "stdout",
     "output_type": "stream",
     "text": [
      "1 2 3 4 5 6 7 \n",
      "1 2 3 4 5 6 \n",
      "1 2 3 4 5 \n",
      "1 2 3 4 "
     ]
    }
   ],
   "source": [
    "#While Loop\n",
    "i,j,k,l = 1,1,1,1\n",
    "while i < 8:    \n",
    "    print(i, end = ' ')\n",
    "    i = i+1\n",
    "    if i == 8:\n",
    "        print('')\n",
    "        while j < 7:\n",
    "            print(j, end = ' ')\n",
    "            j = j + 1\n",
    "            if j == 7:\n",
    "                print('')\n",
    "                while k < 6:\n",
    "                    print(k, end = ' ')\n",
    "                    k = k + 1\n",
    "                    if k == 6:\n",
    "                        print('')\n",
    "                        while l < 5:\n",
    "                            print(l, end = ' ')\n",
    "                            l = l + 1"
   ]
  },
  {
   "cell_type": "markdown",
   "id": "f2e9f99b",
   "metadata": {},
   "source": [
    "6. Display numbers from -100 to -10 using for loop."
   ]
  },
  {
   "cell_type": "code",
   "execution_count": 7,
   "id": "d828408c",
   "metadata": {},
   "outputs": [
    {
     "name": "stdout",
     "output_type": "stream",
     "text": [
      "-100 -99 -98 -97 -96 -95 -94 -93 -92 -91 -90 -89 -88 -87 -86 -85 -84 -83 -82 -81 -80 -79 -78 -77 -76 -75 -74 -73 -72 -71 -70 -69 -68 -67 -66 -65 -64 -63 -62 -61 -60 -59 -58 -57 -56 -55 -54 -53 -52 -51 -50 -49 -48 -47 -46 -45 -44 -43 -42 -41 -40 -39 -38 -37 -36 -35 -34 -33 -32 -31 -30 -29 -28 -27 -26 -25 -24 -23 -22 -21 -20 -19 -18 -17 -16 -15 -14 -13 -12 -11 -10 "
     ]
    }
   ],
   "source": [
    "for i in range(-100, -9):\n",
    "    print(i, end = ' ')\n"
   ]
  },
  {
   "cell_type": "markdown",
   "id": "a5244330",
   "metadata": {},
   "source": [
    "7. Write a program to sum all prime numbers within a range of 10 to 1000."
   ]
  },
  {
   "cell_type": "code",
   "execution_count": 14,
   "id": "3a933713",
   "metadata": {},
   "outputs": [
    {
     "name": "stdout",
     "output_type": "stream",
     "text": [
      "List Of Prime Number in Range:  11 13 17 19 23 29 31 37 41 43 47 53 59 61 67 71 73 79 83 89 97 101 103 107 109 113 127 131 137 139 149 151 157 163 167 173 179 181 191 193 197 199 211 223 227 229 233 239 241 251 257 263 269 271 277 281 283 293 307 311 313 317 331 337 347 349 353 359 367 373 379 383 389 397 401 409 419 421 431 433 439 443 449 457 461 463 467 479 487 491 499 503 509 521 523 541 547 557 563 569 571 577 587 593 599 601 607 613 617 619 631 641 643 647 653 659 661 673 677 683 691 701 709 719 727 733 739 743 751 757 761 769 773 787 797 809 811 821 823 827 829 839 853 857 859 863 877 881 883 887 907 911 919 929 937 941 947 953 967 971 977 983 991 997 \n",
      "Sum of prime numer is:  76110\n"
     ]
    }
   ],
   "source": [
    "def is_prime(n):\n",
    "    if n <= 1:\n",
    "        return False\n",
    "\n",
    "    for i in range(2, int(n ** 0.5) + 1):\n",
    "        if n % i == 0:\n",
    "            return False\n",
    "\n",
    "    return True\n",
    "\n",
    "primesum = 0\n",
    "print('List Of Prime Number in Range: ', end = ' ')\n",
    "for i in range(10, 1001):\n",
    "    if is_prime(i):\n",
    "        primesum = primesum + i\n",
    "        print(i, end = ' ')\n",
    "print('')     \n",
    "print('Sum of prime numer is: ',primesum)\n",
    "    "
   ]
  },
  {
   "cell_type": "markdown",
   "id": "172a5957",
   "metadata": {},
   "source": [
    "8. Find the factorial of an n! (Hint, n=7: 7*6*5*4*3*2*1)."
   ]
  },
  {
   "cell_type": "code",
   "execution_count": 16,
   "id": "68cff1f7",
   "metadata": {},
   "outputs": [
    {
     "name": "stdout",
     "output_type": "stream",
     "text": [
      "Please Enter an number to calculate factorial\n",
      "4\n",
      "24\n"
     ]
    }
   ],
   "source": [
    "print('Please Enter an number to calculate factorial')\n",
    "number = int(input())\n",
    "factorial = 1\n",
    "if number>1:\n",
    "    for i in range(number,1,-1):\n",
    "        factorial = factorial * i\n",
    "print(factorial)"
   ]
  },
  {
   "cell_type": "markdown",
   "id": "e7202139",
   "metadata": {},
   "source": [
    "9. Reverse a given integer number 27956240710."
   ]
  },
  {
   "cell_type": "code",
   "execution_count": 10,
   "id": "4b3122da",
   "metadata": {},
   "outputs": [
    {
     "name": "stdout",
     "output_type": "stream",
     "text": [
      "01704265972\n"
     ]
    }
   ],
   "source": [
    "int_num = 27956240710\n",
    "str_num = str(int_num)\n",
    "rev_num = ''\n",
    "for i in range(1, len(str_num)+1, 1):\n",
    "    rev_num = rev_num + str_num[-i]\n",
    "print(rev_num)\n",
    "    "
   ]
  },
  {
   "cell_type": "markdown",
   "id": "eae31aa5",
   "metadata": {},
   "source": [
    "10. Print the following pattern using for and while loop.\n",
    "# # #  # #  #\n",
    "# # # # # # # #\n",
    "# # #  # #  #\n",
    "# # #  # "
   ]
  },
  {
   "cell_type": "code",
   "execution_count": 59,
   "id": "a5bd7fed",
   "metadata": {},
   "outputs": [
    {
     "name": "stdout",
     "output_type": "stream",
     "text": [
      "output using While loop\n",
      "# # # \n",
      "# # # # \n",
      "# # # \n",
      "# # \n",
      "\n",
      "\n",
      "output using for loop\n",
      "# # # \n",
      "# # # # \n",
      "# # # \n",
      "# # \n"
     ]
    }
   ],
   "source": [
    "## Using While Loop\n",
    "print('output using While loop')\n",
    "# Increment\n",
    "n = 4\n",
    "i = 3\n",
    "while i <= n:\n",
    "    j = 1\n",
    "    while j <= i:\n",
    "        print('#', end=' ')\n",
    "        j += 1\n",
    "    print()\n",
    "    i += 1\n",
    "\n",
    "# decrement\n",
    "n = 3\n",
    "i = 2\n",
    "while i <= n:\n",
    "    j = 1\n",
    "    while j <= n:\n",
    "        print('#', end=' ')\n",
    "        j = j + 1\n",
    "    print()\n",
    "    n = n - 1\n",
    "print()\n",
    "print()\n",
    "    \n",
    "## Using While Loop\n",
    "print('output using for loop')\n",
    "# Increment\n",
    "for i in range(3,5):\n",
    "    for j in range(1, i+1):        \n",
    "        print('#', end=' ')\n",
    "    print()\n",
    "# Decrement\n",
    "for i in range(4,2,-1):\n",
    "    for j in range(1,i):\n",
    "       print('#', end=' ')\n",
    "    print()"
   ]
  },
  {
   "cell_type": "markdown",
   "id": "a54345b5",
   "metadata": {},
   "source": [
    "11. Display the Fibonacci series of 15 elements using the for and while loop."
   ]
  },
  {
   "cell_type": "code",
   "execution_count": 68,
   "id": "db1ee464",
   "metadata": {},
   "outputs": [
    {
     "name": "stdout",
     "output_type": "stream",
     "text": [
      "Fibonacci series using for loop: \n",
      "0 1 1 2 3 5 8 13 21 34 55 89 144 233 377 \n",
      "\n",
      "Fibonacci series using while loop: \n",
      "0 1 1 2 3 5 8 13 21 34 55 89 144 233 377 "
     ]
    }
   ],
   "source": [
    "number1, number2, sum = 0, 1, 0\n",
    "# Fibonacci series Using for Loop\n",
    "print('Fibonacci series using for loop: ')\n",
    "print(number1,number2, sep = ' ', end = ' ')\n",
    "for i in range(2, 15):\n",
    "    sum = number1 + number2\n",
    "    print(sum, end = ' ')\n",
    "    number1 = number2\n",
    "    number2 = sum\n",
    "print()\n",
    "print()\n",
    "\n",
    "# Fibonacci series Using while Loop\n",
    "number1, number2, sum, i = 0, 1, 0, 2\n",
    "print('Fibonacci series using while loop: ')\n",
    "print(number1,number2, sep = ' ', end = ' ')\n",
    "while i < 15 :\n",
    "    sum = number1 + number2\n",
    "    print(sum, end = ' ')\n",
    "    number1 = number2\n",
    "    number2 = sum\n",
    "    i = i + 1\n",
    "\n",
    "\n"
   ]
  },
  {
   "cell_type": "code",
   "execution_count": null,
   "id": "47182d76",
   "metadata": {},
   "outputs": [],
   "source": []
  }
 ],
 "metadata": {
  "kernelspec": {
   "display_name": "Python 3 (ipykernel)",
   "language": "python",
   "name": "python3"
  },
  "language_info": {
   "codemirror_mode": {
    "name": "ipython",
    "version": 3
   },
   "file_extension": ".py",
   "mimetype": "text/x-python",
   "name": "python",
   "nbconvert_exporter": "python",
   "pygments_lexer": "ipython3",
   "version": "3.10.9"
  }
 },
 "nbformat": 4,
 "nbformat_minor": 5
}
